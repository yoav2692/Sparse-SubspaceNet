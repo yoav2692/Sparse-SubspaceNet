{
 "cells": [
  {
   "cell_type": "code",
   "execution_count": null,
   "source": [
    "# don't let them fool ya!\n",
    "gpu_info = !nvidia-smi\n",
    "gpu_info = '\\n'.join(gpu_info)\n",
    "if gpu_info.find('failed') >= 0:\n",
    "  print('Not connected to a GPU')\n",
    "else:\n",
    "  print(gpu_info)"
   ],
   "outputs": [],
   "metadata": {}
  },
  {
   "cell_type": "code",
   "execution_count": null,
   "source": [
    "project  = \"Sparse-SubspaceNet\"\n",
    "username = \"yoav2692\" # <from github account>\n",
    "usermail = \"yoavamiel2@gmail.com\" # <from github account>\n",
    "token    = \"\" # follow https://www.youtube.com/watch?v=CBBqcDpUNq4 \n",
    "\n",
    "# Install Git and clone the repository\n",
    "!apt-get -qq install -y git\n",
    "!git clone https://$token/$username/$project.git\n",
    "# Configure Git with your credentials\n",
    "!git config --global user.name $username\n",
    "!git config --global user.email $usermail\n",
    "!git config --global github.token $token"
   ],
   "outputs": [],
   "metadata": {}
  },
  {
   "cell_type": "code",
   "execution_count": null,
   "source": [
    "!git reset --hard\n",
    "!git fetch\n",
    "!git checkout loss-change"
   ],
   "outputs": [],
   "metadata": {}
  },
  {
   "cell_type": "code",
   "execution_count": null,
   "source": [
    "%cd /content/Sparse-SubspaceNet\n",
    "!python experiments_handler.py"
   ],
   "outputs": [],
   "metadata": {}
  }
 ],
 "metadata": {
  "orig_nbformat": 4,
  "language_info": {
   "name": "python"
  }
 },
 "nbformat": 4,
 "nbformat_minor": 2
}